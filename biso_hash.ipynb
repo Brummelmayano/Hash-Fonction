{
  "cells": [
    {
      "cell_type": "markdown",
      "metadata": {
        "id": "0Vkzb0kDfsPB"
      },
      "source": [
        "la fonction d'Hachage BISO est inspiré de l'algorithme SHA-256, effectuant la préparation des données, l'initialisation des variables, le traitement par blocs, la compression du bloc, la finalisation du condensé, et finalement le retour du résultat sous forme de base64."
      ]
    },
    {
      "cell_type": "markdown",
      "metadata": {
        "id": "PFLr9VTtfA3v"
      },
      "source": [
        "\n",
        "\n",
        "1. **Préparation des données (prepare_data):**\n",
        "   - La fonction commence par encoder la chaîne de message en UTF-8.\n",
        "   - Elle calcule la longueur du message en bits et détermine le nombre de bits de padding nécessaires pour que la longueur totale soit un multiple de 512 bits.\n",
        "   - Ajoute un padding au message avec un '1' suivi de zéros et la longueur du message en bits codée sur 8 octets.\n",
        "\n"
      ]
    },
    {
      "cell_type": "code",
      "execution_count": null,
      "metadata": {
        "id": "V7E_xao3h4Cr"
      },
      "outputs": [],
      "source": [
        "\n",
        "def prepare_data(message):\n",
        "    # Ajout du padding pour que la longueur totale soit un multiple de 512 bits\n",
        "    message = message.encode('utf-8')\n",
        "    ml = len(message) * 8  # Longueur du message en bits\n",
        "    k = 448 - (ml + 1) % 512  # Nombre de bits de padding à ajouter\n",
        "    padding = b'\\x80' + b'\\x00' * (k // 8) + (ml).to_bytes(8, byteorder='big')\n",
        "    prepared_data = message + padding\n",
        "    return prepared_data\n"
      ]
    },
    {
      "cell_type": "markdown",
      "metadata": {
        "id": "jMGPlQh6fYEh"
      },
      "source": [
        "2. **Initialisation des variables (initialize_variables):**\n",
        "   - Initialise les variables internes (h0 à h7) avec des valeurs spécifiques, qui sont les premières parties des racines carrées des huit premiers nombres premiers.\n",
        "\n"
      ]
    },
    {
      "cell_type": "code",
      "execution_count": null,
      "metadata": {
        "id": "jY0mOgash7EP"
      },
      "outputs": [],
      "source": [
        "def initialize_variables():\n",
        "    # Initialisation des variables internes avec des valeurs spécifiques\n",
        "    h0 = 0x6a09e667\n",
        "    h1 = 0xbb67ae85\n",
        "    h2 = 0x3c6ef372\n",
        "    h3 = 0xa54ff53a\n",
        "    h4 = 0x510e527f\n",
        "    h5 = 0x9b05688c\n",
        "    h6 = 0x1f83d9ab\n",
        "    h7 = 0x5be0cd19\n",
        "    return (h0, h1, h2, h3, h4, h5, h6, h7)\n"
      ]
    },
    {
      "cell_type": "markdown",
      "metadata": {
        "id": "fEUnfBeDfbHK"
      },
      "source": [
        "3. **Traitement par blocs (process_blocks):**\n",
        "   - Divise le message préparé en blocs de 512 bits.\n",
        "\n"
      ]
    },
    {
      "cell_type": "code",
      "execution_count": null,
      "metadata": {
        "id": "NZ6Uqsdjh71j"
      },
      "outputs": [],
      "source": [
        "\n",
        "def process_blocks(data):\n",
        "    # Traitement par blocs de 512 bits à la fois\n",
        "    block_size = 64  # Taille d'un bloc en octets (512 bits)\n",
        "    blocks = [data[i:i+block_size] for i in range(0, len(data), block_size)]\n",
        "    return blocks\n",
        "\n"
      ]
    },
    {
      "cell_type": "markdown",
      "metadata": {
        "id": "qBpOkZsIfjvz"
      },
      "source": [
        "4. **Compression du bloc (compress_block):**\n",
        "   - La fonction de compression applique l'algorithme de compression SHA-256 sur chaque bloc.\n",
        "   - Utilise les constantes de la table de hachage et des opérations logiques et arithmétiques pour calculer de nouveaux mots à partir du bloc actuel.\n",
        "   - Effectue la compression principale en mettant à jour les variables de travail (a à h) à chaque itération.\n",
        "   - À la fin de chaque bloc, les variables de travail sont mises à jour en ajoutant les valeurs calculées aux variables existantes.\n",
        "\n"
      ]
    },
    {
      "cell_type": "code",
      "execution_count": null,
      "metadata": {
        "id": "EpLIGE37h8ff"
      },
      "outputs": [],
      "source": [
        "def compress_block(block,h , h0, h1, h2 ,h3 ,h4 ,h5 , h6, h7):\n",
        "    # Valeurs initiales des constantes de la table de hachage\n",
        "    k = [\n",
        "        0x428a2f98, 0x71374491, 0xb5c0fbcf, 0xe9b5dba5, 0x3956c25b, 0x59f111f1, 0x923f82a4, 0xab1c5ed5,\n",
        "        0xd807aa98, 0x12835b01, 0x243185be, 0x550c7dc3, 0x72be5d74, 0x80deb1fe, 0x9bdc06a7, 0xc19bf174,\n",
        "        0xe49b69c1, 0xefbe4786, 0x0fc19dc6, 0x240ca1cc, 0x2de92c6f, 0x4a7484aa, 0x5cb0a9dc, 0x76f988da,\n",
        "        0x983e5152, 0xa831c66d, 0xb00327c8, 0xbf597fc7, 0xc6e00bf3, 0xd5a79147, 0x06ca6351, 0x14292967,\n",
        "        0x27b70a85, 0x2e1b2138, 0x4d2c6dfc, 0x53380d13, 0x650a7354, 0x766a0abb, 0x81c2c92e, 0x92722c85,\n",
        "        0xa2bfe8a1, 0xa81a664b, 0xc24b8b70, 0xc76c51a3, 0xd192e819, 0xd6990624, 0xf40e3585, 0x106aa070,\n",
        "        0x19a4c116, 0x1e376c08, 0x2748774c, 0x34b0bcb5, 0x391c0cb3, 0x4ed8aa4a, 0x5b9cca4f, 0x682e6ff3,\n",
        "        0x748f82ee, 0x78a5636f, 0x84c87814, 0x8cc70208, 0x90befffa, 0xa4506ceb, 0xbef9a3f7, 0xc67178f2\n",
        "    ]\n",
        "\n",
        "    # Initialisation des variables de travail\n",
        "    a, b, c, d, e, f, g, h = h\n",
        "\n",
        "    # Préparation des mots du bloc\n",
        "    w = [int.from_bytes(block[i:i + 4], byteorder='big') for i in range(0, len(block), 4)]\n",
        "    w += [0] * (64 - len(w))  # Extension à 64 mots\n",
        "\n",
        "    # Calcul des nouveaux mots\n",
        "    for i in range(16, 64):\n",
        "        s0 = (w[i-15] >> 7 | w[i-15] << (32-7)) ^ (w[i-15] >> 18 | w[i-15] << (32-18)) ^ (w[i-15] >> 3)\n",
        "        s1 = (w[i-2] >> 17 | w[i-2] << (32-17)) ^ (w[i-2] >> 19 | w[i-2] << (32-19)) ^ (w[i-2] >> 10)\n",
        "        w[i] = (w[i-16] + s0 + w[i-7] + s1) & ((1 << 32) -1)\n",
        "\n",
        "    # Compression principale\n",
        "    for i in range(64):\n",
        "        S1 = (e >> (32 - 6) | e << (32 - (32 -6))) ^ (e >> (32 -11) | e << (32 - (32 -11))) ^ (e >> (32 -25) | e << (32 - (32 -25)))\n",
        "        ch = (e & f) ^ (~e & g)\n",
        "        temp1 = h + S1 + ch + k[i] + w[i]\n",
        "        S0 = (a >> (32 -2) | a << (32 - (32 -2))) ^ (a >> (32 -13) | a << (32 - (32 -13))) ^ (a >> (32 -22) | a << (32 - (32 -22)))\n",
        "        maj = (a & b) ^ (a & c) ^ (b & c)\n",
        "        temp2 = S0 + maj\n",
        "\n",
        "        h = g\n",
        "        g = f\n",
        "        f = e\n",
        "        e = (d + temp1) & ((1 << 32) - 1)\n",
        "        d = c\n",
        "        c = b\n",
        "        b = a\n",
        "        a = (temp1 + temp2) & ((1 << 32) - 1)\n",
        "\n",
        "    h0, h1, h2 ,h3 ,h4 ,h5 , h6, h7 = h0, h1, h2 ,h3 ,h4 ,h5 , h6, h7\n",
        "    # Mise à jour des variables de travail\n",
        "    h0 = (h0 + a) & ((1 << 32) - 1)\n",
        "    h1 = (h1 + b) & ((1 << 32) - 1)\n",
        "    h2 = (h2 + c) & ((1 << 32) - 1)\n",
        "    h3 = (h3 + d) & ((1 << 32) - 1)\n",
        "    h4 = (h4 + e) & ((1 << 32) - 1)\n",
        "    h5 = (h5 + f) & ((1 << 32) - 1)\n",
        "    h6 = (h6 + g) & ((1 << 32) - 1)\n",
        "    h7 = (h7 + h) & ((1 << 32) - 1)\n",
        "\n",
        "    return [h0, h1, h2, h3, h4, h5, h6, h7]\n",
        "\n",
        "\n",
        "\n"
      ]
    },
    {
      "cell_type": "markdown",
      "metadata": {
        "id": "Iu20vEFsfmBg"
      },
      "source": [
        "5. **Finalisation du condensé (finalize_hash):**\n",
        "   - Combiner les valeurs partielles de h0 à h7 pour former le condensé final.\n",
        "   - Les valeurs sont concaténées et retournées sous forme de chaîne d'octets.\n",
        "\n"
      ]
    },
    {
      "cell_type": "code",
      "execution_count": null,
      "metadata": {
        "id": "kYkGjrg4h9Jr"
      },
      "outputs": [],
      "source": [
        "def finalize_hash(h):\n",
        "    # Finalisation : combinaison des valeurs partielles pour former le condensé final\n",
        "    final_hash = b''\n",
        "    for hi in h:\n",
        "        final_hash += hi.to_bytes(4, byteorder='big')\n",
        "    return final_hash\n",
        "\n",
        "\n"
      ]
    },
    {
      "cell_type": "markdown",
      "metadata": {
        "id": "qeIyPZtmfo_S"
      },
      "source": [
        "6. **Fonction principale (biso_hash):**\n",
        "   - Appelle les fonctions précédentes dans l'ordre pour effectuer le hachage complet du message.\n",
        "   - Retourne le résultat final sous forme de chaîne hexadécimale.\n",
        "\n"
      ]
    },
    {
      "cell_type": "code",
      "execution_count": null,
      "metadata": {
        "id": "w_aO7bK8ffme"
      },
      "outputs": [],
      "source": [
        "import base64\n",
        "\n",
        "def biso_hash(message):\n",
        "    prepared_data = prepare_data(message)\n",
        "    h = initialize_variables()\n",
        "    h0, h1, h2, h3, h4, h5, h6, h7 = h\n",
        "\n",
        "    blocks = process_blocks(prepared_data)\n",
        "    for block in blocks:\n",
        "        h = compress_block(block, h, h0, h1, h2, h3, h4, h5, h6, h7)\n",
        "    hashed_message = finalize_hash(h)\n",
        "\n",
        "    # Convertit le résultat final en base 64\n",
        "    base64_message = base64.b64encode(hashed_message)\n",
        "\n",
        "    return base64_message.decode('utf-8')  # Retourne la représentation en tant que chaîne de caractères\n"
      ]
    },
    {
      "cell_type": "code",
      "execution_count": null,
      "metadata": {
        "id": "2h-vBV-6fUyO"
      },
      "outputs": [],
      "source": []
    },
    {
      "cell_type": "code",
      "execution_count": 137,
      "metadata": {
        "colab": {
          "base_uri": "https://localhost:8080/"
        },
        "id": "_XxdbSC8YXPG",
        "outputId": "7acb0789-a5c7-4ca2-eab1-9fd8f13e4449"
      },
      "outputs": [
        {
          "name": "stdout",
          "output_type": "stream",
          "text": [
            "Message original: mon texte\n",
            "Message haché   (biso_hash): 8ATpWswLiE2oW1hRYSQB2RyNyABaqMvTZH/ce3AjULk=\n",
            "Message haché 2 (biso_hash): 8ATpWswLiE2oW1hRYSQB2RyNyABaqMvTZH/ce3AjULk=\n"
          ]
        }
      ],
      "source": [
        "# Exemple d'utilisation de la fonction pour hacher un message\n",
        "message = input(\"entrez le mot à hacher\")\n",
        "hashed_message = biso_hash(message)\n",
        "\n",
        "print(\"Message original:\", message)\n",
        "print(\"Message haché   (biso_hash):\", hashed_message)\n"
      ]
    },
    {
      "cell_type": "code",
      "execution_count": 136,
      "metadata": {
        "colab": {
          "base_uri": "https://localhost:8080/"
        },
        "id": "wdOCnJ0JdWXg",
        "outputId": "44bff354-1895-4694-f994-54bf5a1a5f05"
      },
      "outputs": [
        {
          "data": {
            "text/plain": [
              "False"
            ]
          },
          "execution_count": 136,
          "metadata": {},
          "output_type": "execute_result"
        }
      ],
      "source": [
        "hashed_message_1==hashed_message_2"
      ]
    },
    {
      "cell_type": "code",
      "execution_count": 133,
      "metadata": {
        "colab": {
          "base_uri": "https://localhost:8080/"
        },
        "id": "5FyJ9SRIhGOS",
        "outputId": "0b856f94-0a7c-4cc2-d316-a1094cde25fe"
      },
      "outputs": [
        {
          "data": {
            "text/plain": [
              "44"
            ]
          },
          "execution_count": 133,
          "metadata": {},
          "output_type": "execute_result"
        }
      ],
      "source": [
        "len(hashed_message_2)"
      ]
    }
  ],
  "metadata": {
    "colab": {
      "provenance": []
    },
    "kernelspec": {
      "display_name": "Python 3",
      "name": "python3"
    },
    "language_info": {
      "name": "python"
    }
  },
  "nbformat": 4,
  "nbformat_minor": 0
}
